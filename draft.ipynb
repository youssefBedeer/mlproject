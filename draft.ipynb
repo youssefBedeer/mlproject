{
 "cells": [
  {
   "cell_type": "code",
   "execution_count": 31,
   "id": "bf314814",
   "metadata": {},
   "outputs": [],
   "source": [
    "from typing import List\n",
    "def get_requirements(file_path:str, *args) -> List[str]:\n",
    "    requirements = []\n",
    "    HYPHEN_E = \"-e\"\n",
    "    with open(file_path) as file_obj:\n",
    "        requirements = file_obj.readlines()\n",
    "        requirements = [req.replace(\"\\n\",\"\") for req in requirements]\n",
    "    \n",
    "    if HYPHEN_E in requirements:\n",
    "        requirements.remove(HYPHEN_E)\n",
    "    return requirements"
   ]
  },
  {
   "cell_type": "code",
   "execution_count": 32,
   "id": "317ac9c5",
   "metadata": {},
   "outputs": [],
   "source": [
    "req = get_requirements(r'requirements.txt')"
   ]
  },
  {
   "cell_type": "code",
   "execution_count": 33,
   "id": "aa762c4d",
   "metadata": {},
   "outputs": [
    {
     "data": {
      "text/plain": [
       "['pandas ', 'numpy', 'seaborn']"
      ]
     },
     "execution_count": 33,
     "metadata": {},
     "output_type": "execute_result"
    }
   ],
   "source": [
    "req"
   ]
  },
  {
   "cell_type": "code",
   "execution_count": 34,
   "id": "d963e38e",
   "metadata": {},
   "outputs": [],
   "source": [
    "import pandas as pd"
   ]
  },
  {
   "cell_type": "code",
   "execution_count": 35,
   "id": "1821ebf7",
   "metadata": {},
   "outputs": [
    {
     "data": {
      "text/plain": [
       "'2.3.2'"
      ]
     },
     "execution_count": 35,
     "metadata": {},
     "output_type": "execute_result"
    }
   ],
   "source": [
    "pd.__version__"
   ]
  },
  {
   "cell_type": "code",
   "execution_count": 1,
   "id": "4b90e923",
   "metadata": {},
   "outputs": [
    {
     "ename": "CustomException",
     "evalue": "Error occured in python script name [C:\\Users\\bedee\\AppData\\Local\\Temp\\ipykernel_2892\\691037378.py] line number [4] error message [division by zero]",
     "output_type": "error",
     "traceback": [
      "\u001b[31m---------------------------------------------------------------------------\u001b[39m",
      "\u001b[31mZeroDivisionError\u001b[39m                         Traceback (most recent call last)",
      "\u001b[36mCell\u001b[39m\u001b[36m \u001b[39m\u001b[32mIn[1]\u001b[39m\u001b[32m, line 4\u001b[39m\n\u001b[32m      3\u001b[39m \u001b[38;5;28;01mtry\u001b[39;00m:\n\u001b[32m----> \u001b[39m\u001b[32m4\u001b[39m     \u001b[32;43m1\u001b[39;49m\u001b[43m/\u001b[49m\u001b[32;43m0\u001b[39;49m\n\u001b[32m      5\u001b[39m \u001b[38;5;28;01mexcept\u001b[39;00m \u001b[38;5;167;01mException\u001b[39;00m \u001b[38;5;28;01mas\u001b[39;00m e:\n",
      "\u001b[31mZeroDivisionError\u001b[39m: division by zero",
      "\nDuring handling of the above exception, another exception occurred:\n",
      "\u001b[31mCustomException\u001b[39m                           Traceback (most recent call last)",
      "\u001b[36mCell\u001b[39m\u001b[36m \u001b[39m\u001b[32mIn[1]\u001b[39m\u001b[32m, line 6\u001b[39m\n\u001b[32m      4\u001b[39m     \u001b[32m1\u001b[39m/\u001b[32m0\u001b[39m\n\u001b[32m      5\u001b[39m \u001b[38;5;28;01mexcept\u001b[39;00m \u001b[38;5;167;01mException\u001b[39;00m \u001b[38;5;28;01mas\u001b[39;00m e:\n\u001b[32m----> \u001b[39m\u001b[32m6\u001b[39m     \u001b[38;5;28;01mraise\u001b[39;00m CustomException(\u001b[38;5;28mstr\u001b[39m(e), sys)\n",
      "\u001b[31mCustomException\u001b[39m: Error occured in python script name [C:\\Users\\bedee\\AppData\\Local\\Temp\\ipykernel_2892\\691037378.py] line number [4] error message [division by zero]"
     ]
    }
   ],
   "source": [
    "import sys\n",
    "from src.exception import CustomException \n",
    "try:\n",
    "    1/0\n",
    "except Exception as e:\n",
    "    raise CustomException(str(e), sys)"
   ]
  },
  {
   "cell_type": "code",
   "execution_count": 4,
   "id": "9cf8b7e9",
   "metadata": {},
   "outputs": [],
   "source": [
    "import logging \n",
    "\n",
    "logging.basicConfig(\n",
    "    filename=\"app.log\",\n",
    "    level=logging.DEBUG,\n",
    "    format=\"%(asctime)s - %(levelname)s - %(message)s\"\n",
    ")\n",
    "logging.info(\"Logging system initilaized\")"
   ]
  },
  {
   "cell_type": "code",
   "execution_count": 5,
   "id": "d1d1069d",
   "metadata": {},
   "outputs": [],
   "source": [
    "logging.debug(\"Debugging details\")\n",
    "logging.info(\"App started successfully\")\n",
    "logging.warning(\"Low disk space\")\n",
    "logging.error(\"File not found\")\n",
    "logging.critical(\"System crash!\")\n"
   ]
  },
  {
   "cell_type": "code",
   "execution_count": 6,
   "id": "d40d2bc0",
   "metadata": {},
   "outputs": [],
   "source": [
    "logging.debug(\"Debugging details\")\n"
   ]
  },
  {
   "cell_type": "code",
   "execution_count": 16,
   "id": "26b2d15f",
   "metadata": {},
   "outputs": [
    {
     "data": {
      "text/plain": [
       "'2025_09_19_00_29_51.log'"
      ]
     },
     "execution_count": 16,
     "metadata": {},
     "output_type": "execute_result"
    }
   ],
   "source": [
    "from datetime import datetime \n",
    "\n",
    "f\"{datetime.now().strftime('%Y_%m_%d_%H_%M_%S')}.log\""
   ]
  },
  {
   "cell_type": "code",
   "execution_count": 17,
   "id": "fdb04a20",
   "metadata": {},
   "outputs": [
    {
     "name": "stdout",
     "output_type": "stream",
     "text": [
      "logs\\2025_09_19_00_32_05.log\n"
     ]
    }
   ],
   "source": [
    "import os \n",
    "from datetime import datetime \n",
    "\n",
    "logs_folder = \"logs\"\n",
    "os.makedirs(logs_folder, exist_ok=True)\n",
    "\n",
    "log_file = f\"{datetime.now().strftime('%Y_%m_%d_%H_%M_%S')}.log\"\n",
    "log_path = os.path.join(logs_folder, log_file)\n",
    "print(log_path)"
   ]
  },
  {
   "cell_type": "code",
   "execution_count": 1,
   "id": "4fc509ad",
   "metadata": {},
   "outputs": [],
   "source": [
    "import os \n",
    "import logging \n",
    "from datetime import datetime \n",
    "\n",
    "logs_folder = \"logs\"\n",
    "os.makedirs(logs_folder, exist_ok=True)\n",
    "log_file = f\"{datetime.now().strftime('%Y_%m_%d_%H_%M_%S')}.log\"\n",
    "log_path = os.path.join(logs_folder, log_file)\n",
    "\n",
    "logging.basicConfig(\n",
    "    filename=log_path, \n",
    "    level= logging.INFO,\n",
    "    format=\"%(asctime)s - %(levelname)s - %(message)s\"\n",
    ")\n",
    "\n",
    "logging.info(\"✅ Logging system started successfully\")\n",
    "logging.warning(\"⚠️ This is a test warning\")"
   ]
  },
  {
   "cell_type": "code",
   "execution_count": 3,
   "id": "2746fc5a",
   "metadata": {},
   "outputs": [],
   "source": [
    "import sys\n",
    "try:\n",
    "    int(\"abc\")   # ❌ ValueError\n",
    "except Exception as e:\n",
    "    _, _, tb = sys.exc_info()\n",
    "    logging.error(\"Error at line %s: %s\", tb.tb_lineno, e)\n",
    "\n",
    "try:\n",
    "    my_list = [1, 2, 3]\n",
    "    print(my_list[5])  # ❌ IndexError\n",
    "except Exception as e:\n",
    "    _, _, tb = sys.exc_info()\n",
    "    logging.error(\"Error at line %s: %s\", tb.tb_lineno, e)\n"
   ]
  },
  {
   "cell_type": "code",
   "execution_count": 5,
   "id": "87e3722b",
   "metadata": {},
   "outputs": [],
   "source": [
    "import sys, logging, os \n",
    "from datetime import datetime \n",
    "\n",
    "class CustomeException(Exception):\n",
    "    def __init__(self, error_message):\n",
    "        super().__init__(error_message)\n",
    "        _,_, tb = sys.exc_info() \n",
    "        self.line = tb.tb_lineno \n",
    "        self.error_message = f\"Error at line {self.line}: {error_message}\"\n",
    "    \n",
    "    def __str__(self):\n",
    "        return self.error_message\n",
    "    \n",
    "# logging \n",
    "log_folder = os.path.join(os.getcwd(), \"logs\")\n",
    "os.makedirs(log_folder, exist_ok=True)\n",
    "\n",
    "log_file = f\"{datetime.now().strftime('%Y_%m_%d_%H_%M_%S')}.log\"\n",
    "log_path = os.path.join(log_folder, log_file)\n",
    "\n",
    "# config logging\n",
    "logging.basicConfig(\n",
    "    filename=log_path,\n",
    "    level=logging.INFO,\n",
    "    format= \"%(asctime)s - %(levelname)s - %(message)s\"\n",
    ")\n"
   ]
  },
  {
   "cell_type": "code",
   "execution_count": 7,
   "id": "63f75478",
   "metadata": {},
   "outputs": [
    {
     "name": "stdout",
     "output_type": "stream",
     "text": [
      "Error at line 2: division by zero\n"
     ]
    }
   ],
   "source": [
    "try:\n",
    "    result = 10 / 0 \n",
    "except Exception as e:\n",
    "    CE = CustomeException(str(e))\n",
    "    logging.error(CE)\n",
    "    print(CE)"
   ]
  },
  {
   "cell_type": "code",
   "execution_count": null,
   "id": "017eb0be",
   "metadata": {},
   "outputs": [],
   "source": []
  }
 ],
 "metadata": {
  "kernelspec": {
   "display_name": "zenml-env",
   "language": "python",
   "name": "python3"
  },
  "language_info": {
   "codemirror_mode": {
    "name": "ipython",
    "version": 3
   },
   "file_extension": ".py",
   "mimetype": "text/x-python",
   "name": "python",
   "nbconvert_exporter": "python",
   "pygments_lexer": "ipython3",
   "version": "3.11.13"
  }
 },
 "nbformat": 4,
 "nbformat_minor": 5
}
