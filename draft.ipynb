{
 "cells": [
  {
   "cell_type": "code",
   "execution_count": 31,
   "id": "bf314814",
   "metadata": {},
   "outputs": [],
   "source": [
    "from typing import List\n",
    "def get_requirements(file_path:str, *args) -> List[str]:\n",
    "    requirements = []\n",
    "    HYPHEN_E = \"-e\"\n",
    "    with open(file_path) as file_obj:\n",
    "        requirements = file_obj.readlines()\n",
    "        requirements = [req.replace(\"\\n\",\"\") for req in requirements]\n",
    "    \n",
    "    if HYPHEN_E in requirements:\n",
    "        requirements.remove(HYPHEN_E)\n",
    "    return requirements"
   ]
  },
  {
   "cell_type": "code",
   "execution_count": 32,
   "id": "317ac9c5",
   "metadata": {},
   "outputs": [],
   "source": [
    "req = get_requirements(r'requirements.txt')"
   ]
  },
  {
   "cell_type": "code",
   "execution_count": 33,
   "id": "aa762c4d",
   "metadata": {},
   "outputs": [
    {
     "data": {
      "text/plain": [
       "['pandas ', 'numpy', 'seaborn']"
      ]
     },
     "execution_count": 33,
     "metadata": {},
     "output_type": "execute_result"
    }
   ],
   "source": [
    "req"
   ]
  },
  {
   "cell_type": "code",
   "execution_count": 34,
   "id": "d963e38e",
   "metadata": {},
   "outputs": [],
   "source": [
    "import pandas as pd"
   ]
  },
  {
   "cell_type": "code",
   "execution_count": 35,
   "id": "1821ebf7",
   "metadata": {},
   "outputs": [
    {
     "data": {
      "text/plain": [
       "'2.3.2'"
      ]
     },
     "execution_count": 35,
     "metadata": {},
     "output_type": "execute_result"
    }
   ],
   "source": [
    "pd.__version__"
   ]
  },
  {
   "cell_type": "code",
   "execution_count": null,
   "id": "4b90e923",
   "metadata": {},
   "outputs": [],
   "source": []
  }
 ],
 "metadata": {
  "kernelspec": {
   "display_name": "mlproject_env",
   "language": "python",
   "name": "python3"
  },
  "language_info": {
   "codemirror_mode": {
    "name": "ipython",
    "version": 3
   },
   "file_extension": ".py",
   "mimetype": "text/x-python",
   "name": "python",
   "nbconvert_exporter": "python",
   "pygments_lexer": "ipython3",
   "version": "3.12.11"
  }
 },
 "nbformat": 4,
 "nbformat_minor": 5
}
